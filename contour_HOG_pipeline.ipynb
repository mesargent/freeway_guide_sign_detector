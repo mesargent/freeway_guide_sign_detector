{
 "cells": [
  {
   "cell_type": "code",
   "execution_count": 15,
   "metadata": {},
   "outputs": [],
   "source": [
    "import cv2\n",
    "import os\n",
    "import numpy as np\n",
    "from random import shuffle\n",
    "import imutils #need to install this with pip\n",
    "import matplotlib.pyplot as plt\n",
    "from skimage import data, color, exposure\n",
    "from sklearn import svm\n",
    "import data_generator as dg\n",
    "from sklearn.metrics import classification_report\n",
    "%matplotlib inline  "
   ]
  },
  {
   "cell_type": "markdown",
   "metadata": {},
   "source": [
    "Get data array from generate_data module. Randomize the array. Pick sample_size amount from each"
   ]
  },
  {
   "cell_type": "code",
   "execution_count": 2,
   "metadata": {
    "scrolled": false
   },
   "outputs": [
    {
     "name": "stdout",
     "output_type": "stream",
     "text": [
      "270\n"
     ]
    }
   ],
   "source": [
    "#get positive images, determine best ratios (rows over columns), assign to images\n",
    "\n",
    "pimages = dg.getImagesFromJSON(open(\"labels.json\").read())\n",
    "pimages = [remove_red(x) for x in pimages]\n",
    "print(len(pimages))"
   ]
  },
  {
   "cell_type": "markdown",
   "metadata": {},
   "source": [
    "Get negative images"
   ]
  },
  {
   "cell_type": "code",
   "execution_count": 3,
   "metadata": {},

   "outputs": [
    {
     "name": "stdout",
     "output_type": "stream",
     "text": [
      "400\n"
     ]
    }
   ],
   "source": [
    "nimages = dg.getRandomMultiple(\"sun_images\", 200, 0)\n",
    "partialsignimgs = dg.getRandomMultiple(\"partial\", 200, 0)\n",
    "nimages = nimages+partialsignimgs\n",
    "nimages = [x[1] for x in nimages]\n",
    "\n",
    "print(len(nimages))\n"
   ]
  },
  {
   "cell_type": "markdown",
   "metadata": {
    "collapsed": true
   },
   "source": [
    "Generate features from HOGs and images for each label and aspect ratio"
   ]
  },
  {
   "cell_type": "code",

   "execution_count": 4,
   "metadata": {},
   "outputs": [],
   "source": [
    "def getFeaturesWithLabel(imageData, hog, dims, label):\n",
    "    data = []\n",
    "    for img in imageData: \n",
    "        img = cv2.resize(img, dims)\n",
    "\n",
    "        #for images with transparency layer, reduce to 3 layers\n",
    "        feat = hog.compute(img[:,:,:3])\n",
    "        \n",
    "        data.append((feat, label))\n",
    "    return data\n"
   ]
  },
  {
   "cell_type": "code",
   "execution_count": 5,
   "metadata": {},
   "outputs": [],
   "source": [
    "minDim = 80\n",
    "blockSize = (16,16)\n",
    "blockStride = (8,8)\n",
    "cellSize = (8,8)\n",
    "nbins = 9\n",
    "derivAperture = 1\n",
    "winSigma = -1\n",
    "histogramNormType = 0\n",
    "L2HysThreshold = 2.1e-1\n",
    "gammaCorrection = 0\n",
    "nlevels = 64\n",
    "\n",
    "dims = (80,80)\n",
    "\n",
    "hog = cv2.HOGDescriptor(dims,blockSize,blockStride,cellSize,nbins,derivAperture,winSigma,\n",
    "                        histogramNormType,L2HysThreshold,gammaCorrection,nlevels)"
   ]
  },
  {
   "cell_type": "code",
   "execution_count": 6,
   "metadata": {},
   "outputs": [],
   "source": [
    "pdata = getFeaturesWithLabel(pimages, hog, dims, 1)\n",
    "ndata = getFeaturesWithLabel(nimages, hog, dims, 0)\n",
    "\n",
    "data = pdata + ndata\n",
    "shuffle(data)\n",
    "\n",
    "feat, labels = map(list, zip(*data))\n",
    "feat = [x.flatten() for x in feat]\n",
    "\n",
    "sample_size = len(feat)\n",
    "train_size = int(round(0.8*sample_size))\n"
   ]
  },
  {
   "cell_type": "code",
   "execution_count": 7,
   "metadata": {},
   "outputs": [],
   "source": [
    "train_feat = np.array(feat[:train_size], np.float32)\n",
    "test_feat = np.array(feat[train_size: sample_size], np.float32)\n",
    "train_label = np.array(labels[:train_size])\n",
    "test_label = np.array(labels[train_size:sample_size])\n"
   ]
  },
  {
   "cell_type": "markdown",
   "metadata": {
    "collapsed": true
   },
   "source": [
    "Train classifier"
   ]
  },
  {
   "cell_type": "code",
   "execution_count": 8,
    "scrolled": true
   },
   "outputs": [
    {
     "data": {
      "text/plain": [

       "SVC(C=0.1, cache_size=200, class_weight=None, coef0=0.0,\n",
       "  decision_function_shape=None, degree=3, gamma=5, kernel='linear',\n",
       "  max_iter=-1, probability=True, random_state=None, shrinking=True,\n",
       "  tol=0.001, verbose=False)"
      ]
     },
     "execution_count": 8,
     "metadata": {},
     "output_type": "execute_result"
    }
   ],
   "source": [
    "lsvm = svm.SVC(gamma=5, C=.1, kernel=\"linear\", probability=True)\n",
    "lsvm.fit(train_feat, train_label)\n"
   ]
  },
  {
   "cell_type": "markdown",
   "metadata": {},
   "source": [
    "Compute and display training accuracy"
   ]
  },
  {
   "cell_type": "code",
   "execution_count": 9,
   "metadata": {
    "scrolled": true
   },
   "outputs": [
    {
     "name": "stdout",
     "output_type": "stream",
     "text": [
      "0.996268656716\n"
     ]
    }
   ],
   "source": [
    "print(lsvm.score(train_feat, train_label))"
   ]
  },
  {
   "cell_type": "markdown",
   "metadata": {},
   "source": [
    "Compute and display test set accuracy, precision, recall, f1-score"
   ]
  },
  {
   "cell_type": "code",
   "execution_count": 16,
   "metadata": {
    "scrolled": false
   },
   "outputs": [
    {
     "name": "stdout",
     "output_type": "stream",
     "text": [

      "test accuracy  0.985074626866\n",
      "             precision    recall  f1-score   support\n",
      "\n",
      "          0       0.99      0.99      0.99        74\n",
      "          1       0.98      0.98      0.98        60\n",
      "\n",
      "avg / total       0.99      0.99      0.99       134\n",
      "\n"
     ]
    }
   ],
   "source": [
    "#compute test accuracy\n",
    "print(\"test accuracy \", lsvm.score(test_feat, test_label))\n",
    "y_pred = lsvm.predict(test_feat)\n",
    "print(classification_report(test_label, y_pred))"
   ]
  },
  {
   "cell_type": "markdown",
   "metadata": {},
   "source": [
    "Confusion Matrix"
   ]
  },
  {
   "cell_type": "code",
   "execution_count": 17,
   "metadata": {},
   "outputs": [
    {
     "data": {
      "text/plain": [
       "array([[73,  1],\n",
       "       [ 1, 59]])"
      ]
     },
     "execution_count": 17,
     "metadata": {},
     "output_type": "execute_result"
    }
   ],
   "source": [
    "confusion_matrix(y_pred, test_label)"
   ]
  },
  {
   "cell_type": "code",
   "execution_count": 18,
   "metadata": {},
   "outputs": [],
   "source": [
    "def getHardNegativeFeatures(lsvm, hog, imgDir, step=1, scale=1.1):\n",
    "    #get dataset of negative images to scan through\n",
    "    negFiles = dg.getAllFiles(imgDir)\n",
    "    negImgs = []\n",
    "    falsePos_feat = []\n",
    "    signs = 0\n",
    "    nosigns = 0\n",
    "\n",
    "    for f in negFiles:\n",
    "        negImgs.append([f, cv2.imread(imgDir + \"/\" + f)])\n",
    "    \n",
    "    if len(negImgs) == 0:\n",
    "        raise \"No images found\"\n",
    "\n",
    "    #multiscale detect\n",
    "    for row in negImgs:\n",
    "        scales = md.pyramid(row[1], scale, minSize=(30, 30))\n",
    "        winw = hog.winSize[1]\n",
    "        winh = hog.winSize[0]\n",
    "\n",
    "        for img in scales:\n",
    "            results = []\n",
    "\n",
    "            for (x, y, window) in md.sliding_window(img, step, (winw, winh)):        \n",
    "                if window.shape[0] != winh or window.shape[1] != winw:\n",
    "                    continue\n",
    "                window = cv2.resize(window, (winh, winw))\n",
    "                feat = hog.compute(window)\n",
    "                result = lsvm.predict(feat.reshape(1,-1))\n",
    "                if result == 1:  \n",
    "                    falsePos_feat.append(feat)\n",
    "                    signs +=1\n",
    "                else:\n",
    "                    nosigns+=1\n",
    "\n",
    "    falsePosFeat = [x.flatten() for x in falsePos_feat] \n",
    "    return falsePosFeat"
   ]
  },
  {
   "cell_type": "markdown",
   "metadata": {},
   "source": [
    "Find and display signs in a test image"
   ]
  },
  {
   "cell_type": "code",
   "execution_count": 21,
   "metadata": {},
   "outputs": [],
   "source": [
    "#helper function for resizing images\n",
    "def resize(img, scale):\n",
    "    return cv2.resize(img, (int(img.shape[1]*scale), int(img.shape[0]*scale)))"
   ]
  },
  {
   "cell_type": "code",
   "execution_count": 22,
   "metadata": {
    "scrolled": true
   },
   "source": [
    "im = cv2.imread(\"lafwy/la2.jpg\")\n",
    "if im.shape[0] > 400:\n",
    "    scale = 400.0/im.shape[0]\n",
    "else: scale = 1\n",
    "im = resize(im, scale)\n",
    "\n",
    "plt.imshow(cv2.cvtColor(im, cv2.COLOR_BGR2RGB))\n",
    "plt.show()"
   ]
  },
  {
   "cell_type": "markdown",
   "metadata": {},
   "source": [
    "Preprocess image, get regions of interest bounding boxes using contours, color filtering, thresholding"
   ]
  },
  {
   "cell_type": "code",

   "execution_count": 28,
   "metadata": {},

   "outputs": [],
   "source": [
    "def preprocess(image, lower, upper):\n",
    "    #boundary in bgr color scheme for opencv\n",
    "\n",
    "    lower = np.array(lower, dtype=\"uint8\")\n",
    "    upper = np.array(upper, dtype=\"uint8\")\n",
    "    \n",
    "    #apply smoothing\n",
    "    kernel = np.ones((5,5),np.float32)/25\n",
    "    dst = cv2.filter2D(image,-1,kernel)\n",
    "\n",
    "    # find the colors within the specified boundaries and apply\n",
    "    # the mask\n",
    "    mask = cv2.inRange(image, lower, upper)\n",
    "    \n",
    "    output = cv2.bitwise_and(image, image, mask = mask)\n",
    "    \n",
    "    return output, mask"
   ]
  },
  {
   "cell_type": "code",

   "execution_count": 29,
   "metadata": {},
  
   "source": [
    "r = np.matrix(im[:,:,2]).sum()\n",
    "b = np.matrix(im[:,:,0]).sum()\n",
    "g = np.matrix(im[:,:,1]).sum()\n",
    "print r, g, b\n",
    "red_ratio = float(r)/(b+g)\n",
    "print red_ratio\n",
    "red_val = int(red_ratio * 120)\n",
    "pimage, mask = preprocess(im,  ([0,0,0], [255, 255, red_val]))\n",
    "plt.imshow(pimage)\n",
    "plt.show()"
   ]
  },
  {
   "cell_type": "code",
   "execution_count": 30,
   "metadata": {},
   "outputs": [
    {
     "metadata": {},
     "output_type": "display_data"
    }
   ],
   "source": [
    "imgray = cv2.cvtColor(pimage,cv2.COLOR_BGR2GRAY)\n",
    "plt.imshow(imgray, cmap='gray')\n",
    "plt.show()"
   ]
  },
  {
   "cell_type": "code",
   "execution_count": 31,
   "metadata": {},
   "outputs": [
    {
      "text/plain": [
       "<matplotlib.figure.Figure at 0x1c49fd4358>"
      ]
     },
     "metadata": {},
     "output_type": "display_data"
    }
   ],
   "source": [
    "flag, binaryImage = cv2.threshold(imgray, 85, 255, cv2.THRESH_BINARY + cv2.THRESH_OTSU )\n",
    "edges = cv2.Canny(binaryImage, 50, 150)\n",
    "plt.imshow(edges, cmap='gray')\n",
    "plt.show()"
   ]
  },
  {
   "cell_type": "code",
<<<<<<< HEAD
   "execution_count": 32,
   "metadata": {},
   "outputs": [],
   "source": [
    "im2, contours, hierarchy = cv2.findContours(edges,cv2.RETR_TREE,cv2.CHAIN_APPROX_SIMPLE)"
   ]
  },
  {
   "cell_type": "code",
   "execution_count": 34,
   "metadata": {},
   "outputs": [
    {
     "name": "stdout",
     "output_type": "stream",
     "text": [
      "119\n",
      "5\n"
     ]
    },
    {
     "data": {
      "text/plain": [
       "<matplotlib.figure.Figure at 0x1c5a077c88>"
      ]
     },
     "metadata": {},
     "output_type": "display_data"
    }
   ],
   "source": [
    "copy = im.copy()\n",
    "rgb = rgb = cv2.cvtColor(copy, cv2.COLOR_BGR2RGB)\n",
    "\n",
    "boxes = [cv2.boundingRect(c) for c in contours]\n",
    "print(len(boxes))\n",
    "boxes2 = [b for b in boxes if b[2]*b[3] > 600]\n",
    "print(len(boxes2))\n",
    "\n",
    "for x, y, w, h in boxes2:\n",
    "    cv2.rectangle(rgb, (x,y),(x+w, y+h), (0, 255, 0), 2)\n",
    "plt.imshow(rgb)\n",
    "plt.show()"
   ]
  },
  {
   "cell_type": "markdown",
   "metadata": {},
   "source": [
    "Apply HOG to bounding boxes for result"
   ]
  },
  {
   "cell_type": "code",
   "execution_count": 35,
   "metadata": {
    "scrolled": false
   },
   "outputs": [],
   "source": [
    "def transform_scale(factor, boxes):\n",
    "    return [[int(x[0]*factor), int(x[1]*factor), int(x[2]*factor), int(x[3]*factor)] for x in boxes]"
   ]
  },
  {
   "cell_type": "code",
   "execution_count": 37,
   "metadata": {},
   "outputs": [
    {
     "name": "stdout",
     "output_type": "stream",
     "text": [
      "2\n"
     ]
    }
   ],
   "source": [
    "real_signs = []\n",
    "\n",
    "for x, y, w, h in boxes2:\n",
    "    #get slice at box:\n",
    "    window = im[y:y+h, x:x+w, :]\n",
    "    window = cv2.resize(window, dims)\n",
    "    feat = hog.compute(window)\n",
    "    prob = lsvm.predict_proba(feat.reshape(1,-1))[0]          \n",
    "#     plt.imshow(cv2.cvtColor(window, cv2.COLOR_BGR2RGB))\n",
    "#     plt.show()\n",
    "#     print prob[1]\n",
    "    if prob[1] > .1:  \n",
    "        real_signs.append((x,y,w,h))\n",
    "    \n",
    "print(len(real_signs))\n"
   ]
  },
  {
   "cell_type": "code",
   "execution_count": 38,
   "metadata": {},
   "outputs": [
    {
     "data": {
      "text/plain": [
       "<matplotlib.figure.Figure at 0x1c5a1731d0>"
      ]
     },
     "metadata": {},
     "output_type": "display_data"
    }
   ],
   "source": [
    "clone = im.copy()\n",
    "\n",
    "colors = [(0,255,0),(0,0,0),(255,0,255),(255,0,0),(255,165,0),(255,255,255), (1, 1, 1)]\n",
    "for x, y, w, h in real_signs:\n",
    "     \n",
    "\n",
    "    cv2.rectangle(clone, (x, y), (x+w, y+h), colors[3], 2)\n",
    "\n",
    "plt.imshow(cv2.cvtColor(clone, cv2.COLOR_BGR2RGB))\n",
    "plt.show()"
   ]
  }
 ],
 "metadata": {
  "kernelspec": {
   "display_name": "Python 3",
   "language": "python",
   "name": "python3"
  },
  "language_info": {
   "codemirror_mode": {
    "name": "ipython",
    "version": 3
   },
   "file_extension": ".py",
   "mimetype": "text/x-python",
   "name": "python",
   "nbconvert_exporter": "python",
   "pygments_lexer": "ipython3",
   "version": "3.5.4"
  }
 },
 "nbformat": 4,
 "nbformat_minor": 2
}
